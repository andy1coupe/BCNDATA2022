{
 "cells": [
  {
   "cell_type": "code",
   "execution_count": 1,
   "id": "78439a32",
   "metadata": {},
   "outputs": [],
   "source": [
    "import pandas as pd "
   ]
  },
  {
   "cell_type": "code",
   "execution_count": 2,
   "id": "34104eb2",
   "metadata": {},
   "outputs": [],
   "source": [
    "df=pd.read_csv('web_data.csv')"
   ]
  },
  {
   "cell_type": "code",
   "execution_count": 3,
   "id": "28409464",
   "metadata": {},
   "outputs": [
    {
     "data": {
      "text/plain": [
       "web_id           int64\n",
       "client_id        int64\n",
       "visitor_id      object\n",
       "visit_id        object\n",
       "process_step    object\n",
       "date_time       object\n",
       "dtype: object"
      ]
     },
     "execution_count": 3,
     "metadata": {},
     "output_type": "execute_result"
    }
   ],
   "source": [
    "df.dtypes"
   ]
  },
  {
   "cell_type": "code",
   "execution_count": 14,
   "id": "ec17aafa",
   "metadata": {},
   "outputs": [
    {
     "data": {
      "text/html": [
       "<div>\n",
       "<style scoped>\n",
       "    .dataframe tbody tr th:only-of-type {\n",
       "        vertical-align: middle;\n",
       "    }\n",
       "\n",
       "    .dataframe tbody tr th {\n",
       "        vertical-align: top;\n",
       "    }\n",
       "\n",
       "    .dataframe thead th {\n",
       "        text-align: right;\n",
       "    }\n",
       "</style>\n",
       "<table border=\"1\" class=\"dataframe\">\n",
       "  <thead>\n",
       "    <tr style=\"text-align: right;\">\n",
       "      <th></th>\n",
       "      <th>web_id</th>\n",
       "      <th>client_id</th>\n",
       "      <th>visitor_id</th>\n",
       "      <th>visit_id</th>\n",
       "      <th>process_step</th>\n",
       "      <th>date_time</th>\n",
       "      <th>day</th>\n",
       "      <th>month</th>\n",
       "      <th>full_month</th>\n",
       "    </tr>\n",
       "  </thead>\n",
       "  <tbody>\n",
       "    <tr>\n",
       "      <th>0</th>\n",
       "      <td>0</td>\n",
       "      <td>9988021</td>\n",
       "      <td>580560515_7732621733</td>\n",
       "      <td>781255054_21935453173_531117</td>\n",
       "      <td>step_3</td>\n",
       "      <td>2017-04-17 15:27:00</td>\n",
       "      <td>17</td>\n",
       "      <td>4</td>\n",
       "      <td>April</td>\n",
       "    </tr>\n",
       "    <tr>\n",
       "      <th>1</th>\n",
       "      <td>1</td>\n",
       "      <td>9988021</td>\n",
       "      <td>580560515_7732621733</td>\n",
       "      <td>781255054_21935453173_531117</td>\n",
       "      <td>step_2</td>\n",
       "      <td>2017-04-17 15:26:00</td>\n",
       "      <td>17</td>\n",
       "      <td>4</td>\n",
       "      <td>April</td>\n",
       "    </tr>\n",
       "    <tr>\n",
       "      <th>2</th>\n",
       "      <td>2</td>\n",
       "      <td>9988021</td>\n",
       "      <td>580560515_7732621733</td>\n",
       "      <td>781255054_21935453173_531117</td>\n",
       "      <td>step_3</td>\n",
       "      <td>2017-04-17 15:19:00</td>\n",
       "      <td>17</td>\n",
       "      <td>4</td>\n",
       "      <td>April</td>\n",
       "    </tr>\n",
       "    <tr>\n",
       "      <th>3</th>\n",
       "      <td>3</td>\n",
       "      <td>9988021</td>\n",
       "      <td>580560515_7732621733</td>\n",
       "      <td>781255054_21935453173_531117</td>\n",
       "      <td>step_2</td>\n",
       "      <td>2017-04-17 15:19:00</td>\n",
       "      <td>17</td>\n",
       "      <td>4</td>\n",
       "      <td>April</td>\n",
       "    </tr>\n",
       "    <tr>\n",
       "      <th>4</th>\n",
       "      <td>4</td>\n",
       "      <td>9988021</td>\n",
       "      <td>580560515_7732621733</td>\n",
       "      <td>781255054_21935453173_531117</td>\n",
       "      <td>step_3</td>\n",
       "      <td>2017-04-17 15:18:00</td>\n",
       "      <td>17</td>\n",
       "      <td>4</td>\n",
       "      <td>April</td>\n",
       "    </tr>\n",
       "    <tr>\n",
       "      <th>5</th>\n",
       "      <td>5</td>\n",
       "      <td>9988021</td>\n",
       "      <td>580560515_7732621733</td>\n",
       "      <td>781255054_21935453173_531117</td>\n",
       "      <td>step_2</td>\n",
       "      <td>2017-04-17 15:17:00</td>\n",
       "      <td>17</td>\n",
       "      <td>4</td>\n",
       "      <td>April</td>\n",
       "    </tr>\n",
       "    <tr>\n",
       "      <th>6</th>\n",
       "      <td>6</td>\n",
       "      <td>9988021</td>\n",
       "      <td>580560515_7732621733</td>\n",
       "      <td>781255054_21935453173_531117</td>\n",
       "      <td>step_1</td>\n",
       "      <td>2017-04-17 15:17:00</td>\n",
       "      <td>17</td>\n",
       "      <td>4</td>\n",
       "      <td>April</td>\n",
       "    </tr>\n",
       "    <tr>\n",
       "      <th>7</th>\n",
       "      <td>7</td>\n",
       "      <td>9988021</td>\n",
       "      <td>580560515_7732621733</td>\n",
       "      <td>781255054_21935453173_531117</td>\n",
       "      <td>start</td>\n",
       "      <td>2017-04-17 15:16:00</td>\n",
       "      <td>17</td>\n",
       "      <td>4</td>\n",
       "      <td>April</td>\n",
       "    </tr>\n",
       "    <tr>\n",
       "      <th>8</th>\n",
       "      <td>8</td>\n",
       "      <td>8320017</td>\n",
       "      <td>39393514_33118319366</td>\n",
       "      <td>960651974_70596002104_312201</td>\n",
       "      <td>confirm</td>\n",
       "      <td>2017-04-05 13:10:00</td>\n",
       "      <td>5</td>\n",
       "      <td>4</td>\n",
       "      <td>April</td>\n",
       "    </tr>\n",
       "    <tr>\n",
       "      <th>9</th>\n",
       "      <td>9</td>\n",
       "      <td>8320017</td>\n",
       "      <td>39393514_33118319366</td>\n",
       "      <td>960651974_70596002104_312201</td>\n",
       "      <td>step_3</td>\n",
       "      <td>2017-04-05 13:09:00</td>\n",
       "      <td>5</td>\n",
       "      <td>4</td>\n",
       "      <td>April</td>\n",
       "    </tr>\n",
       "    <tr>\n",
       "      <th>10</th>\n",
       "      <td>10</td>\n",
       "      <td>8320017</td>\n",
       "      <td>39393514_33118319366</td>\n",
       "      <td>960651974_70596002104_312201</td>\n",
       "      <td>step_2</td>\n",
       "      <td>2017-04-05 13:08:00</td>\n",
       "      <td>5</td>\n",
       "      <td>4</td>\n",
       "      <td>April</td>\n",
       "    </tr>\n",
       "    <tr>\n",
       "      <th>11</th>\n",
       "      <td>11</td>\n",
       "      <td>8320017</td>\n",
       "      <td>39393514_33118319366</td>\n",
       "      <td>960651974_70596002104_312201</td>\n",
       "      <td>step_1</td>\n",
       "      <td>2017-04-05 13:08:00</td>\n",
       "      <td>5</td>\n",
       "      <td>4</td>\n",
       "      <td>April</td>\n",
       "    </tr>\n",
       "    <tr>\n",
       "      <th>12</th>\n",
       "      <td>12</td>\n",
       "      <td>8320017</td>\n",
       "      <td>39393514_33118319366</td>\n",
       "      <td>960651974_70596002104_312201</td>\n",
       "      <td>start</td>\n",
       "      <td>2017-04-05 13:08:00</td>\n",
       "      <td>5</td>\n",
       "      <td>4</td>\n",
       "      <td>April</td>\n",
       "    </tr>\n",
       "    <tr>\n",
       "      <th>13</th>\n",
       "      <td>13</td>\n",
       "      <td>4033851</td>\n",
       "      <td>762728880_76361333336</td>\n",
       "      <td>949661017_22392791362_127391</td>\n",
       "      <td>confirm</td>\n",
       "      <td>2017-04-05 12:29:00</td>\n",
       "      <td>5</td>\n",
       "      <td>4</td>\n",
       "      <td>April</td>\n",
       "    </tr>\n",
       "    <tr>\n",
       "      <th>14</th>\n",
       "      <td>14</td>\n",
       "      <td>4033851</td>\n",
       "      <td>762728880_76361333336</td>\n",
       "      <td>949661017_22392791362_127391</td>\n",
       "      <td>confirm</td>\n",
       "      <td>2017-04-05 12:29:00</td>\n",
       "      <td>5</td>\n",
       "      <td>4</td>\n",
       "      <td>April</td>\n",
       "    </tr>\n",
       "    <tr>\n",
       "      <th>15</th>\n",
       "      <td>15</td>\n",
       "      <td>4033851</td>\n",
       "      <td>762728880_76361333336</td>\n",
       "      <td>949661017_22392791362_127391</td>\n",
       "      <td>confirm</td>\n",
       "      <td>2017-04-05 12:28:00</td>\n",
       "      <td>5</td>\n",
       "      <td>4</td>\n",
       "      <td>April</td>\n",
       "    </tr>\n",
       "    <tr>\n",
       "      <th>16</th>\n",
       "      <td>16</td>\n",
       "      <td>4033851</td>\n",
       "      <td>762728880_76361333336</td>\n",
       "      <td>949661017_22392791362_127391</td>\n",
       "      <td>step_3</td>\n",
       "      <td>2017-04-05 12:26:00</td>\n",
       "      <td>5</td>\n",
       "      <td>4</td>\n",
       "      <td>April</td>\n",
       "    </tr>\n",
       "    <tr>\n",
       "      <th>17</th>\n",
       "      <td>17</td>\n",
       "      <td>4033851</td>\n",
       "      <td>762728880_76361333336</td>\n",
       "      <td>949661017_22392791362_127391</td>\n",
       "      <td>step_2</td>\n",
       "      <td>2017-04-05 12:24:00</td>\n",
       "      <td>5</td>\n",
       "      <td>4</td>\n",
       "      <td>April</td>\n",
       "    </tr>\n",
       "    <tr>\n",
       "      <th>18</th>\n",
       "      <td>18</td>\n",
       "      <td>4033851</td>\n",
       "      <td>762728880_76361333336</td>\n",
       "      <td>949661017_22392791362_127391</td>\n",
       "      <td>step_1</td>\n",
       "      <td>2017-04-05 12:24:00</td>\n",
       "      <td>5</td>\n",
       "      <td>4</td>\n",
       "      <td>April</td>\n",
       "    </tr>\n",
       "    <tr>\n",
       "      <th>19</th>\n",
       "      <td>19</td>\n",
       "      <td>4033851</td>\n",
       "      <td>762728880_76361333336</td>\n",
       "      <td>949661017_22392791362_127391</td>\n",
       "      <td>start</td>\n",
       "      <td>2017-04-05 12:24:00</td>\n",
       "      <td>5</td>\n",
       "      <td>4</td>\n",
       "      <td>April</td>\n",
       "    </tr>\n",
       "  </tbody>\n",
       "</table>\n",
       "</div>"
      ],
      "text/plain": [
       "    web_id  client_id             visitor_id                      visit_id  \\\n",
       "0        0    9988021   580560515_7732621733  781255054_21935453173_531117   \n",
       "1        1    9988021   580560515_7732621733  781255054_21935453173_531117   \n",
       "2        2    9988021   580560515_7732621733  781255054_21935453173_531117   \n",
       "3        3    9988021   580560515_7732621733  781255054_21935453173_531117   \n",
       "4        4    9988021   580560515_7732621733  781255054_21935453173_531117   \n",
       "5        5    9988021   580560515_7732621733  781255054_21935453173_531117   \n",
       "6        6    9988021   580560515_7732621733  781255054_21935453173_531117   \n",
       "7        7    9988021   580560515_7732621733  781255054_21935453173_531117   \n",
       "8        8    8320017   39393514_33118319366  960651974_70596002104_312201   \n",
       "9        9    8320017   39393514_33118319366  960651974_70596002104_312201   \n",
       "10      10    8320017   39393514_33118319366  960651974_70596002104_312201   \n",
       "11      11    8320017   39393514_33118319366  960651974_70596002104_312201   \n",
       "12      12    8320017   39393514_33118319366  960651974_70596002104_312201   \n",
       "13      13    4033851  762728880_76361333336  949661017_22392791362_127391   \n",
       "14      14    4033851  762728880_76361333336  949661017_22392791362_127391   \n",
       "15      15    4033851  762728880_76361333336  949661017_22392791362_127391   \n",
       "16      16    4033851  762728880_76361333336  949661017_22392791362_127391   \n",
       "17      17    4033851  762728880_76361333336  949661017_22392791362_127391   \n",
       "18      18    4033851  762728880_76361333336  949661017_22392791362_127391   \n",
       "19      19    4033851  762728880_76361333336  949661017_22392791362_127391   \n",
       "\n",
       "   process_step           date_time  day  month full_month  \n",
       "0        step_3 2017-04-17 15:27:00   17      4      April  \n",
       "1        step_2 2017-04-17 15:26:00   17      4      April  \n",
       "2        step_3 2017-04-17 15:19:00   17      4      April  \n",
       "3        step_2 2017-04-17 15:19:00   17      4      April  \n",
       "4        step_3 2017-04-17 15:18:00   17      4      April  \n",
       "5        step_2 2017-04-17 15:17:00   17      4      April  \n",
       "6        step_1 2017-04-17 15:17:00   17      4      April  \n",
       "7         start 2017-04-17 15:16:00   17      4      April  \n",
       "8       confirm 2017-04-05 13:10:00    5      4      April  \n",
       "9        step_3 2017-04-05 13:09:00    5      4      April  \n",
       "10       step_2 2017-04-05 13:08:00    5      4      April  \n",
       "11       step_1 2017-04-05 13:08:00    5      4      April  \n",
       "12        start 2017-04-05 13:08:00    5      4      April  \n",
       "13      confirm 2017-04-05 12:29:00    5      4      April  \n",
       "14      confirm 2017-04-05 12:29:00    5      4      April  \n",
       "15      confirm 2017-04-05 12:28:00    5      4      April  \n",
       "16       step_3 2017-04-05 12:26:00    5      4      April  \n",
       "17       step_2 2017-04-05 12:24:00    5      4      April  \n",
       "18       step_1 2017-04-05 12:24:00    5      4      April  \n",
       "19        start 2017-04-05 12:24:00    5      4      April  "
      ]
     },
     "execution_count": 14,
     "metadata": {},
     "output_type": "execute_result"
    }
   ],
   "source": [
    "df.head(20)"
   ]
  },
  {
   "cell_type": "code",
   "execution_count": 4,
   "id": "a62ab9b9",
   "metadata": {},
   "outputs": [],
   "source": [
    "#to use a date time as date time we change the data type \n",
    "df['date_time']=pd.to_datetime(df['date_time'],errors='coerce')"
   ]
  },
  {
   "cell_type": "code",
   "execution_count": 5,
   "id": "49d2f2e0",
   "metadata": {},
   "outputs": [],
   "source": [
    "# in this way we can capture elements from the date time field \n",
    "df['day']=pd.DatetimeIndex(df['date_time']).day"
   ]
  },
  {
   "cell_type": "code",
   "execution_count": 10,
   "id": "c88b626f",
   "metadata": {},
   "outputs": [
    {
     "ename": "AttributeError",
     "evalue": "'Int64Index' object has no attribute 'strftime'",
     "output_type": "error",
     "traceback": [
      "\u001b[0;31m---------------------------------------------------------------------------\u001b[0m",
      "\u001b[0;31mAttributeError\u001b[0m                            Traceback (most recent call last)",
      "\u001b[0;32m/var/folders/f1/r1pbqcl133ddm5hycygrjx0r0000gp/T/ipykernel_4465/1145947071.py\u001b[0m in \u001b[0;36m<module>\u001b[0;34m\u001b[0m\n\u001b[0;32m----> 1\u001b[0;31m \u001b[0mdf\u001b[0m\u001b[0;34m[\u001b[0m\u001b[0;34m'month'\u001b[0m\u001b[0;34m]\u001b[0m\u001b[0;34m=\u001b[0m\u001b[0mpd\u001b[0m\u001b[0;34m.\u001b[0m\u001b[0mDatetimeIndex\u001b[0m\u001b[0;34m(\u001b[0m\u001b[0mdf\u001b[0m\u001b[0;34m[\u001b[0m\u001b[0;34m'date_time'\u001b[0m\u001b[0;34m]\u001b[0m\u001b[0;34m)\u001b[0m\u001b[0;34m.\u001b[0m\u001b[0mmonth\u001b[0m\u001b[0;34m.\u001b[0m\u001b[0mstrftime\u001b[0m\u001b[0;34m(\u001b[0m\u001b[0mformat\u001b[0m\u001b[0;34m=\u001b[0m\u001b[0;34m'%B'\u001b[0m\u001b[0;34m)\u001b[0m\u001b[0;34m\u001b[0m\u001b[0;34m\u001b[0m\u001b[0m\n\u001b[0m",
      "\u001b[0;31mAttributeError\u001b[0m: 'Int64Index' object has no attribute 'strftime'"
     ]
    }
   ],
   "source": [
    "df['month']=pd.DatetimeIndex(df['date_time']).month"
   ]
  },
  {
   "cell_type": "code",
   "execution_count": 7,
   "id": "a0d476b5",
   "metadata": {},
   "outputs": [
    {
     "name": "stdout",
     "output_type": "stream",
     "text": [
      "<class 'pandas.core.frame.DataFrame'>\n",
      "RangeIndex: 343141 entries, 0 to 343140\n",
      "Data columns (total 8 columns):\n",
      " #   Column        Non-Null Count   Dtype         \n",
      "---  ------        --------------   -----         \n",
      " 0   web_id        343141 non-null  int64         \n",
      " 1   client_id     343141 non-null  int64         \n",
      " 2   visitor_id    343141 non-null  object        \n",
      " 3   visit_id      343141 non-null  object        \n",
      " 4   process_step  343141 non-null  object        \n",
      " 5   date_time     343141 non-null  datetime64[ns]\n",
      " 6   day           343141 non-null  int64         \n",
      " 7   month         343141 non-null  int64         \n",
      "dtypes: datetime64[ns](1), int64(4), object(3)\n",
      "memory usage: 20.9+ MB\n"
     ]
    }
   ],
   "source": [
    "df.info()"
   ]
  },
  {
   "cell_type": "code",
   "execution_count": 16,
   "id": "429810b9",
   "metadata": {},
   "outputs": [
    {
     "data": {
      "text/plain": [
       "'April'"
      ]
     },
     "execution_count": 16,
     "metadata": {},
     "output_type": "execute_result"
    }
   ],
   "source": [
    "df['date_time'][1].strftime(format='%B')"
   ]
  },
  {
   "cell_type": "code",
   "execution_count": null,
   "id": "8f6c7c04",
   "metadata": {},
   "outputs": [],
   "source": [
    "df.query('day==17')"
   ]
  },
  {
   "cell_type": "code",
   "execution_count": 18,
   "id": "57dbd5fa",
   "metadata": {},
   "outputs": [],
   "source": [
    " df['full_month']=df['date_time'].dt.strftime('%B')"
   ]
  },
  {
   "cell_type": "code",
   "execution_count": 19,
   "id": "a8893bd0",
   "metadata": {},
   "outputs": [
    {
     "data": {
      "text/plain": [
       "array(['April', 'March'], dtype=object)"
      ]
     },
     "execution_count": 19,
     "metadata": {},
     "output_type": "execute_result"
    }
   ],
   "source": [
    " df['full_month'].unique()"
   ]
  },
  {
   "cell_type": "code",
   "execution_count": null,
   "id": "2d4d281b",
   "metadata": {},
   "outputs": [],
   "source": []
  }
 ],
 "metadata": {
  "kernelspec": {
   "display_name": "Python 3 (ipykernel)",
   "language": "python",
   "name": "python3"
  },
  "language_info": {
   "codemirror_mode": {
    "name": "ipython",
    "version": 3
   },
   "file_extension": ".py",
   "mimetype": "text/x-python",
   "name": "python",
   "nbconvert_exporter": "python",
   "pygments_lexer": "ipython3",
   "version": "3.9.7"
  },
  "toc": {
   "base_numbering": 1,
   "nav_menu": {},
   "number_sections": true,
   "sideBar": true,
   "skip_h1_title": false,
   "title_cell": "Table of Contents",
   "title_sidebar": "Contents",
   "toc_cell": false,
   "toc_position": {},
   "toc_section_display": true,
   "toc_window_display": false
  },
  "varInspector": {
   "cols": {
    "lenName": 16,
    "lenType": 16,
    "lenVar": 40
   },
   "kernels_config": {
    "python": {
     "delete_cmd_postfix": "",
     "delete_cmd_prefix": "del ",
     "library": "var_list.py",
     "varRefreshCmd": "print(var_dic_list())"
    },
    "r": {
     "delete_cmd_postfix": ") ",
     "delete_cmd_prefix": "rm(",
     "library": "var_list.r",
     "varRefreshCmd": "cat(var_dic_list()) "
    }
   },
   "types_to_exclude": [
    "module",
    "function",
    "builtin_function_or_method",
    "instance",
    "_Feature"
   ],
   "window_display": false
  }
 },
 "nbformat": 4,
 "nbformat_minor": 5
}
