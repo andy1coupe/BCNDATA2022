{
 "cells": [
  {
   "cell_type": "code",
   "execution_count": null,
   "id": "featured-tooth",
   "metadata": {},
   "outputs": [],
   "source": [
    "import pandas as pd\n",
    "import matplotlib.pyplot as plt\n",
    "import seaborn as sns\n",
    "import numpy as np"
   ]
  },
  {
   "cell_type": "markdown",
   "id": "viral-landscape",
   "metadata": {},
   "source": [
    "## Data Description.\n",
    "\n",
    "column name in cleaned df | meaning \n",
    "--- | --- \n",
    "**customer** | Customer ID\n",
    "**state** | US State \n",
    "**customer_lifetime_value** | CLV is the client economic value for a company during all their relationship\n",
    "**response** | Response to marketing calls (customer engagement)\n",
    "**coverage** | Customer coverage type\n",
    "**education** | Customer education level\n",
    "**effective_to_date** | Effective to date\n",
    "**employmentstatus** | Customer employment status\n",
    "**gender** | Customer gender\n",
    "**income** | Customer income\n",
    "**location_code** | Customer living zone\n",
    "**marital_status:** | Customer marital status\n",
    "**monthly_premium_auto:** | Monthly premium\n",
    "**months_since_last_claim:** | Last customer claim\n",
    "**months_since_policy_inception:** | Policy Inception\n",
    "**number_of_open_complaints:** | Open claims\n",
    "**number_of_policies:** | Number policies\n",
    "**policy_type:** | Policy type\n",
    "**policy:** | Policy\n",
    "**renew_offer_type:** | Renew\n",
    "**sales_channel:** | Sales channel (customer-company first contact)\n",
    "**total_claim_amount:** | Claims amount\n",
    "**vehicle_class:** | Vehicle class\n",
    "**vehicle_size:** | Vehicle siz\n",
    "\n",
    "**Goal: Can we predict the amount claimed by a customer in our data set?**"
   ]
  },
  {
   "cell_type": "code",
   "execution_count": null,
   "id": "anticipated-liver",
   "metadata": {},
   "outputs": [],
   "source": []
  }
 ],
 "metadata": {
  "kernelspec": {
   "display_name": "Python 3 (ipykernel)",
   "language": "python",
   "name": "python3"
  },
  "language_info": {
   "codemirror_mode": {
    "name": "ipython",
    "version": 3
   },
   "file_extension": ".py",
   "mimetype": "text/x-python",
   "name": "python",
   "nbconvert_exporter": "python",
   "pygments_lexer": "ipython3",
   "version": "3.9.7"
  },
  "toc": {
   "base_numbering": 1,
   "nav_menu": {},
   "number_sections": true,
   "sideBar": true,
   "skip_h1_title": false,
   "title_cell": "Table of Contents",
   "title_sidebar": "Contents",
   "toc_cell": false,
   "toc_position": {},
   "toc_section_display": true,
   "toc_window_display": false
  },
  "varInspector": {
   "cols": {
    "lenName": 16,
    "lenType": 16,
    "lenVar": 40
   },
   "kernels_config": {
    "python": {
     "delete_cmd_postfix": "",
     "delete_cmd_prefix": "del ",
     "library": "var_list.py",
     "varRefreshCmd": "print(var_dic_list())"
    },
    "r": {
     "delete_cmd_postfix": ") ",
     "delete_cmd_prefix": "rm(",
     "library": "var_list.r",
     "varRefreshCmd": "cat(var_dic_list()) "
    }
   },
   "types_to_exclude": [
    "module",
    "function",
    "builtin_function_or_method",
    "instance",
    "_Feature"
   ],
   "window_display": false
  }
 },
 "nbformat": 4,
 "nbformat_minor": 5
}
